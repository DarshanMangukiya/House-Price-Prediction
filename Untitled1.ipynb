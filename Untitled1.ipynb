{
 "cells": [
  {
   "cell_type": "code",
   "execution_count": 6,
   "id": "6137fb3b",
   "metadata": {},
   "outputs": [
    {
     "name": "stdout",
     "output_type": "stream",
     "text": [
      "car name : volvo\n",
      "seats : 2\n"
     ]
    }
   ],
   "source": [
    "class car:\n",
    "    def __init__(self,carname,seats):\n",
    "        self.carname = carname\n",
    "        self.seats = seats\n",
    "    def myfun(self):\n",
    "        print(\"car name : \" + self.carname + \"\\nseats : \" + str(self.seats))\n",
    "\n",
    "c1 = car(\"volvo\",2)\n",
    "c1.myfun()"
   ]
  },
  {
   "cell_type": "code",
   "execution_count": null,
   "id": "38e88ad4",
   "metadata": {},
   "outputs": [],
   "source": []
  }
 ],
 "metadata": {
  "kernelspec": {
   "display_name": "Python 3 (ipykernel)",
   "language": "python",
   "name": "python3"
  },
  "language_info": {
   "codemirror_mode": {
    "name": "ipython",
    "version": 3
   },
   "file_extension": ".py",
   "mimetype": "text/x-python",
   "name": "python",
   "nbconvert_exporter": "python",
   "pygments_lexer": "ipython3",
   "version": "3.9.7"
  }
 },
 "nbformat": 4,
 "nbformat_minor": 5
}
